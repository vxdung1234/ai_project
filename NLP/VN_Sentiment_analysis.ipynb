{
  "nbformat": 4,
  "nbformat_minor": 0,
  "metadata": {
    "colab": {
      "provenance": [],
      "toc_visible": true
    },
    "kernelspec": {
      "name": "python3",
      "display_name": "Python 3"
    },
    "language_info": {
      "name": "python"
    },
    "accelerator": "GPU",
    "gpuClass": "standard"
  },
  "cells": [
    {
      "cell_type": "code",
      "source": [
        "from google.colab import drive\n",
        "drive.mount('/content/drive')"
      ],
      "metadata": {
        "id": "DjAnFmOD6qnN"
      },
      "execution_count": null,
      "outputs": []
    },
    {
      "cell_type": "code",
      "source": [
        "!pip install emoji py_vncorenlp\n",
        "!pip install -q -U tensorflow-text\n",
        "!pip install -q tf-models-official"
      ],
      "metadata": {
        "id": "S__I1lVI6rlC"
      },
      "execution_count": null,
      "outputs": []
    },
    {
      "cell_type": "code",
      "source": [
        "import os \n",
        "import shutil\n",
        "import zipfile\n",
        "\n",
        "import tensorflow as tf\n",
        "import tensorflow_hub as hub\n",
        "import tensorflow_text as text\n",
        "from official.nlp import optimization  \n",
        "\n",
        "import matplotlib.pyplot as plt\n",
        "import pandas as pd\n",
        "import numpy as np\n",
        "import seaborn as sns\n",
        "tf.get_logger().setLevel('ERROR')"
      ],
      "metadata": {
        "id": "JfgsJ8fF7HJ-"
      },
      "execution_count": 3,
      "outputs": []
    },
    {
      "cell_type": "code",
      "source": [
        "zip_path = \"/content/drive/MyDrive/students_feedback_data.zip\"\n",
        "with zipfile.ZipFile(zip_path, 'r') as zip_ref:\n",
        "    zip_ref.extractall()"
      ],
      "metadata": {
        "id": "Fn2D8_VC7Icx"
      },
      "execution_count": 4,
      "outputs": []
    },
    {
      "cell_type": "code",
      "source": [
        "train_path = 'students_feedback_data/train.csv'\n",
        "val_path = 'students_feedback_data/val.csv'"
      ],
      "metadata": {
        "id": "y7OmsiGf7mjL"
      },
      "execution_count": 5,
      "outputs": []
    },
    {
      "cell_type": "code",
      "source": [
        "train_df = pd.read_csv(train_path)\n",
        "val_df = pd.read_csv(val_path)\n",
        "\n",
        "train_df.head()"
      ],
      "metadata": {
        "colab": {
          "base_uri": "https://localhost:8080/",
          "height": 206
        },
        "id": "6ug9r5og8joZ",
        "outputId": "dee00a8a-b306-45d0-e65e-70f98622cbeb"
      },
      "execution_count": 6,
      "outputs": [
        {
          "output_type": "execute_result",
          "data": {
            "text/plain": [
              "                                            sentence sentiment  \\\n",
              "0                          slide giáo trình đầy đủ .  positive   \n",
              "1     nhiệt tình giảng dạy , gần gũi với sinh viên .  positive   \n",
              "2               đi học đầy đủ full điểm chuyên cần .  negative   \n",
              "3  chưa áp dụng công nghệ thông tin và các thiết ...  negative   \n",
              "4  thầy giảng bài hay , có nhiều bài tập ví dụ ng...  positive   \n",
              "\n",
              "              topic  \n",
              "0  training_program  \n",
              "1          lecturer  \n",
              "2  training_program  \n",
              "3          lecturer  \n",
              "4          lecturer  "
            ],
            "text/html": [
              "\n",
              "  <div id=\"df-41293dd8-09ef-4b7e-a532-54f8e574e738\">\n",
              "    <div class=\"colab-df-container\">\n",
              "      <div>\n",
              "<style scoped>\n",
              "    .dataframe tbody tr th:only-of-type {\n",
              "        vertical-align: middle;\n",
              "    }\n",
              "\n",
              "    .dataframe tbody tr th {\n",
              "        vertical-align: top;\n",
              "    }\n",
              "\n",
              "    .dataframe thead th {\n",
              "        text-align: right;\n",
              "    }\n",
              "</style>\n",
              "<table border=\"1\" class=\"dataframe\">\n",
              "  <thead>\n",
              "    <tr style=\"text-align: right;\">\n",
              "      <th></th>\n",
              "      <th>sentence</th>\n",
              "      <th>sentiment</th>\n",
              "      <th>topic</th>\n",
              "    </tr>\n",
              "  </thead>\n",
              "  <tbody>\n",
              "    <tr>\n",
              "      <th>0</th>\n",
              "      <td>slide giáo trình đầy đủ .</td>\n",
              "      <td>positive</td>\n",
              "      <td>training_program</td>\n",
              "    </tr>\n",
              "    <tr>\n",
              "      <th>1</th>\n",
              "      <td>nhiệt tình giảng dạy , gần gũi với sinh viên .</td>\n",
              "      <td>positive</td>\n",
              "      <td>lecturer</td>\n",
              "    </tr>\n",
              "    <tr>\n",
              "      <th>2</th>\n",
              "      <td>đi học đầy đủ full điểm chuyên cần .</td>\n",
              "      <td>negative</td>\n",
              "      <td>training_program</td>\n",
              "    </tr>\n",
              "    <tr>\n",
              "      <th>3</th>\n",
              "      <td>chưa áp dụng công nghệ thông tin và các thiết ...</td>\n",
              "      <td>negative</td>\n",
              "      <td>lecturer</td>\n",
              "    </tr>\n",
              "    <tr>\n",
              "      <th>4</th>\n",
              "      <td>thầy giảng bài hay , có nhiều bài tập ví dụ ng...</td>\n",
              "      <td>positive</td>\n",
              "      <td>lecturer</td>\n",
              "    </tr>\n",
              "  </tbody>\n",
              "</table>\n",
              "</div>\n",
              "      <button class=\"colab-df-convert\" onclick=\"convertToInteractive('df-41293dd8-09ef-4b7e-a532-54f8e574e738')\"\n",
              "              title=\"Convert this dataframe to an interactive table.\"\n",
              "              style=\"display:none;\">\n",
              "        \n",
              "  <svg xmlns=\"http://www.w3.org/2000/svg\" height=\"24px\"viewBox=\"0 0 24 24\"\n",
              "       width=\"24px\">\n",
              "    <path d=\"M0 0h24v24H0V0z\" fill=\"none\"/>\n",
              "    <path d=\"M18.56 5.44l.94 2.06.94-2.06 2.06-.94-2.06-.94-.94-2.06-.94 2.06-2.06.94zm-11 1L8.5 8.5l.94-2.06 2.06-.94-2.06-.94L8.5 2.5l-.94 2.06-2.06.94zm10 10l.94 2.06.94-2.06 2.06-.94-2.06-.94-.94-2.06-.94 2.06-2.06.94z\"/><path d=\"M17.41 7.96l-1.37-1.37c-.4-.4-.92-.59-1.43-.59-.52 0-1.04.2-1.43.59L10.3 9.45l-7.72 7.72c-.78.78-.78 2.05 0 2.83L4 21.41c.39.39.9.59 1.41.59.51 0 1.02-.2 1.41-.59l7.78-7.78 2.81-2.81c.8-.78.8-2.07 0-2.86zM5.41 20L4 18.59l7.72-7.72 1.47 1.35L5.41 20z\"/>\n",
              "  </svg>\n",
              "      </button>\n",
              "      \n",
              "  <style>\n",
              "    .colab-df-container {\n",
              "      display:flex;\n",
              "      flex-wrap:wrap;\n",
              "      gap: 12px;\n",
              "    }\n",
              "\n",
              "    .colab-df-convert {\n",
              "      background-color: #E8F0FE;\n",
              "      border: none;\n",
              "      border-radius: 50%;\n",
              "      cursor: pointer;\n",
              "      display: none;\n",
              "      fill: #1967D2;\n",
              "      height: 32px;\n",
              "      padding: 0 0 0 0;\n",
              "      width: 32px;\n",
              "    }\n",
              "\n",
              "    .colab-df-convert:hover {\n",
              "      background-color: #E2EBFA;\n",
              "      box-shadow: 0px 1px 2px rgba(60, 64, 67, 0.3), 0px 1px 3px 1px rgba(60, 64, 67, 0.15);\n",
              "      fill: #174EA6;\n",
              "    }\n",
              "\n",
              "    [theme=dark] .colab-df-convert {\n",
              "      background-color: #3B4455;\n",
              "      fill: #D2E3FC;\n",
              "    }\n",
              "\n",
              "    [theme=dark] .colab-df-convert:hover {\n",
              "      background-color: #434B5C;\n",
              "      box-shadow: 0px 1px 3px 1px rgba(0, 0, 0, 0.15);\n",
              "      filter: drop-shadow(0px 1px 2px rgba(0, 0, 0, 0.3));\n",
              "      fill: #FFFFFF;\n",
              "    }\n",
              "  </style>\n",
              "\n",
              "      <script>\n",
              "        const buttonEl =\n",
              "          document.querySelector('#df-41293dd8-09ef-4b7e-a532-54f8e574e738 button.colab-df-convert');\n",
              "        buttonEl.style.display =\n",
              "          google.colab.kernel.accessAllowed ? 'block' : 'none';\n",
              "\n",
              "        async function convertToInteractive(key) {\n",
              "          const element = document.querySelector('#df-41293dd8-09ef-4b7e-a532-54f8e574e738');\n",
              "          const dataTable =\n",
              "            await google.colab.kernel.invokeFunction('convertToInteractive',\n",
              "                                                     [key], {});\n",
              "          if (!dataTable) return;\n",
              "\n",
              "          const docLinkHtml = 'Like what you see? Visit the ' +\n",
              "            '<a target=\"_blank\" href=https://colab.research.google.com/notebooks/data_table.ipynb>data table notebook</a>'\n",
              "            + ' to learn more about interactive tables.';\n",
              "          element.innerHTML = '';\n",
              "          dataTable['output_type'] = 'display_data';\n",
              "          await google.colab.output.renderOutput(dataTable, element);\n",
              "          const docLink = document.createElement('div');\n",
              "          docLink.innerHTML = docLinkHtml;\n",
              "          element.appendChild(docLink);\n",
              "        }\n",
              "      </script>\n",
              "    </div>\n",
              "  </div>\n",
              "  "
            ]
          },
          "metadata": {},
          "execution_count": 6
        }
      ]
    },
    {
      "cell_type": "code",
      "source": [
        "train_df.info()"
      ],
      "metadata": {
        "colab": {
          "base_uri": "https://localhost:8080/"
        },
        "id": "txgFoXBq8uRz",
        "outputId": "ed3f116d-aea8-4ed6-e344-c273032ee795"
      },
      "execution_count": 7,
      "outputs": [
        {
          "output_type": "stream",
          "name": "stdout",
          "text": [
            "<class 'pandas.core.frame.DataFrame'>\n",
            "RangeIndex: 14592 entries, 0 to 14591\n",
            "Data columns (total 3 columns):\n",
            " #   Column     Non-Null Count  Dtype \n",
            "---  ------     --------------  ----- \n",
            " 0   sentence   14592 non-null  object\n",
            " 1   sentiment  14592 non-null  object\n",
            " 2   topic      14592 non-null  object\n",
            "dtypes: object(3)\n",
            "memory usage: 342.1+ KB\n"
          ]
        }
      ]
    },
    {
      "cell_type": "code",
      "source": [
        "plt.figure(figsize=(10,7))\n",
        "sns.countplot(x=train_df['sentiment'])"
      ],
      "metadata": {
        "colab": {
          "base_uri": "https://localhost:8080/",
          "height": 459
        },
        "id": "BJ1FLApn8z_j",
        "outputId": "ba9ff321-0a21-41e6-f7aa-a826dc1e686c"
      },
      "execution_count": 8,
      "outputs": [
        {
          "output_type": "execute_result",
          "data": {
            "text/plain": [
              "<Axes: xlabel='sentiment', ylabel='count'>"
            ]
          },
          "metadata": {},
          "execution_count": 8
        },
        {
          "output_type": "display_data",
          "data": {
            "text/plain": [
              "<Figure size 720x504 with 1 Axes>"
            ],
            "image/png": "[encoded data removed]"
          },
          "metadata": {
            "needs_background": "light"
          }
        }
      ]
    },
    {
      "cell_type": "code",
      "source": [
        "plt.figure(figsize=(10,7))\n",
        "sns.countplot(x=val_df['sentiment'])"
      ],
      "metadata": {
        "colab": {
          "base_uri": "https://localhost:8080/",
          "height": 459
        },
        "id": "MskNwdvU9m78",
        "outputId": "85cf87b8-78b6-4e27-c6d3-226b59d9ea7e"
      },
      "execution_count": 9,
      "outputs": [
        {
          "output_type": "execute_result",
          "data": {
            "text/plain": [
              "<Axes: xlabel='sentiment', ylabel='count'>"
            ]
          },
          "metadata": {},
          "execution_count": 9
        },
        {
          "output_type": "display_data",
          "data": {
            "text/plain": [
              "<Figure size 720x504 with 1 Axes>"
            ],
            "image/png": "[encoded data removed]"
          },
          "metadata": {
            "needs_background": "light"
          }
        }
      ]
    },
    {
      "cell_type": "code",
      "source": [
        "import py_vncorenlp\n",
        "py_vncorenlp.download_model() \n",
        "rdrsegmenter = py_vncorenlp.VnCoreNLP(annotators=[\"wseg\"])"
      ],
      "metadata": {
        "id": "bdNsEEj2AlZu"
      },
      "execution_count": 10,
      "outputs": []
    },
    {
      "cell_type": "code",
      "source": [
        "import re\n",
        "import string\n",
        "import emoji\n",
        "\n",
        "def preprocessing_text(text, word_segment=True):\n",
        "  # Biến đổi về chữ thường\n",
        "  text = text.lower()\n",
        "  # Loại bỏ biểu tượng\n",
        "  emoji_pattern = re.compile(\"[\"\n",
        "        u\"\\U0001F600-\\U0001F64F\"  # emoticons\n",
        "        u\"\\U0001F300-\\U0001F5FF\"  # symbols & pictographs\n",
        "        u\"\\U0001F680-\\U0001F6FF\"  # transport & map symbols\n",
        "        u\"\\U0001F1E0-\\U0001F1FF\"  # flags (iOS)\n",
        "                           \"]+\", flags=re.UNICODE)\n",
        "  text = emoji_pattern.sub(r'', text)\n",
        "  # Loại bỏ các dấu câu\n",
        "  translator = str.maketrans('', '', string.punctuation)\n",
        "  text = text.translate(translator)\n",
        "  # Phân đoạn từ bằng py_vncorenlp\n",
        "  if word_segment == False:\n",
        "    return text\n",
        "  text = rdrsegmenter.word_segment(text)\n",
        "\n",
        "  return \" \".join(text).strip()\n",
        "preprocessing_text(\"chưa áp dụng công nghệ thông tin và các thiết bị hỗ trợ cho việc giảng dạy .\")"
      ],
      "metadata": {
        "colab": {
          "base_uri": "https://localhost:8080/",
          "height": 35
        },
        "id": "QK_hmpgmAT82",
        "outputId": "2718a4a8-4c90-424a-d578-62cadcbe30ce"
      },
      "execution_count": 11,
      "outputs": [
        {
          "output_type": "execute_result",
          "data": {
            "text/plain": [
              "'chưa áp_dụng công_nghệ_thông_tin và các thiết_bị hỗ_trợ cho việc giảng_dạy'"
            ],
            "application/vnd.google.colaboratory.intrinsic+json": {
              "type": "string"
            }
          },
          "metadata": {},
          "execution_count": 11
        }
      ]
    },
    {
      "cell_type": "code",
      "source": [
        "train_df['sentence'] = train_df['sentence'].apply(preprocessing_text)\n",
        "val_df['sentence'] = val_df['sentence'].apply(preprocessing_text)"
      ],
      "metadata": {
        "id": "YFJTe2MMApTB"
      },
      "execution_count": 12,
      "outputs": []
    },
    {
      "cell_type": "code",
      "source": [
        "train_sentences = train_df['sentence'].to_list()\n",
        "val_sentences = val_df['sentence'].to_list()"
      ],
      "metadata": {
        "id": "QRg3GaXn_YCR"
      },
      "execution_count": 13,
      "outputs": []
    },
    {
      "cell_type": "code",
      "source": [
        "from sklearn.preprocessing import OneHotEncoder\n",
        "one_hot_encoder = OneHotEncoder(sparse_output=False)\n",
        "train_labels_one_hot = one_hot_encoder.fit_transform(train_df[\"sentiment\"].to_numpy().reshape(-1, 1))\n",
        "val_labels_one_hot = one_hot_encoder.transform(val_df[\"sentiment\"].to_numpy().reshape(-1, 1))\n",
        "\n",
        "train_labels_one_hot"
      ],
      "metadata": {
        "colab": {
          "base_uri": "https://localhost:8080/"
        },
        "id": "CUW5V92GGzLW",
        "outputId": "57f68a9e-4ed1-40e6-e426-47c3725b373c"
      },
      "execution_count": 14,
      "outputs": [
        {
          "output_type": "execute_result",
          "data": {
            "text/plain": [
              "array([[0., 0., 1.],\n",
              "       [0., 0., 1.],\n",
              "       [1., 0., 0.],\n",
              "       ...,\n",
              "       [0., 0., 1.],\n",
              "       [1., 0., 0.],\n",
              "       [0., 1., 0.]])"
            ]
          },
          "metadata": {},
          "execution_count": 14
        }
      ]
    },
    {
      "cell_type": "code",
      "source": [
        "from sklearn.preprocessing import LabelEncoder\n",
        "\n",
        "label_encoder = LabelEncoder()\n",
        "train_labels_encoded = label_encoder.fit_transform(train_df[\"sentiment\"].to_numpy())\n",
        "val_labels_encoded = label_encoder.transform(val_df[\"sentiment\"].to_numpy())\n",
        "\n",
        "train_labels_encoded"
      ],
      "metadata": {
        "colab": {
          "base_uri": "https://localhost:8080/"
        },
        "id": "Ufwf1W0S-5WW",
        "outputId": "c6561aa3-be46-4c27-db16-0e41d73a8df7"
      },
      "execution_count": 15,
      "outputs": [
        {
          "output_type": "execute_result",
          "data": {
            "text/plain": [
              "array([2, 2, 0, ..., 2, 0, 1])"
            ]
          },
          "metadata": {},
          "execution_count": 15
        }
      ]
    },
    {
      "cell_type": "code",
      "source": [
        "class_names = label_encoder.classes_\n",
        "num_classes = len(class_names)\n",
        "num_classes, class_names"
      ],
      "metadata": {
        "colab": {
          "base_uri": "https://localhost:8080/"
        },
        "id": "cx1Zd-tIClOh",
        "outputId": "ee7e5df1-015a-4d4f-9e2d-e7f86dd058fd"
      },
      "execution_count": 16,
      "outputs": [
        {
          "output_type": "execute_result",
          "data": {
            "text/plain": [
              "(3, array(['negative', 'neutral', 'positive'], dtype=object))"
            ]
          },
          "metadata": {},
          "execution_count": 16
        }
      ]
    },
    {
      "cell_type": "code",
      "source": [
        "from sklearn.metrics import accuracy_score, precision_recall_fscore_support\n",
        "\n",
        "def calculate_result(y_true, y_pred):\n",
        "  accuracy = accuracy_score(y_true, y_pred)\n",
        "  model_precision, model_recall, model_f1, _ = precision_recall_fscore_support(y_true, y_pred, average='weighted')\n",
        "  model_results = {\n",
        "      'accuracy': accuracy,\n",
        "      'precision': model_precision,\n",
        "      'recall': model_recall,\n",
        "      'f1-score': model_f1,\n",
        "  }\n",
        "\n",
        "  return model_results"
      ],
      "metadata": {
        "id": "p9Jj4GlxAEtn"
      },
      "execution_count": 17,
      "outputs": []
    },
    {
      "cell_type": "markdown",
      "source": [
        "#Model 0: Tạo mô hình cơ sở Tf-idf"
      ],
      "metadata": {
        "id": "TNEFu8UYcYmQ"
      }
    },
    {
      "cell_type": "code",
      "source": [
        "from sklearn.feature_extraction.text import TfidfVectorizer\n",
        "from sklearn.naive_bayes import MultinomialNB\n",
        "from sklearn.pipeline import Pipeline\n",
        "\n",
        "model_0 = Pipeline([\n",
        "    ('tf-idf', TfidfVectorizer()),\n",
        "    ('clf', MultinomialNB())\n",
        "])\n",
        "\n",
        "model_0.fit(X=train_sentences,\n",
        "            y=train_labels_encoded)"
      ],
      "metadata": {
        "colab": {
          "base_uri": "https://localhost:8080/",
          "height": 125
        },
        "id": "IPdEgSD9cWt9",
        "outputId": "ecf36745-1566-4fd9-d353-239d81922caa"
      },
      "execution_count": 18,
      "outputs": [
        {
          "output_type": "execute_result",
          "data": {
            "text/plain": [
              "Pipeline(steps=[('tf-idf', TfidfVectorizer()), ('clf', MultinomialNB())])"
            ],
            "text/html": [
              "<style>#sk-container-id-1 {color: black;background-color: white;}#sk-container-id-1 pre{padding: 0;}#sk-container-id-1 div.sk-toggleable {background-color: white;}#sk-container-id-1 label.sk-toggleable__label {cursor: pointer;display: block;width: 100%;margin-bottom: 0;padding: 0.3em;box-sizing: border-box;text-align: center;}#sk-container-id-1 label.sk-toggleable__label-arrow:before {content: \"▸\";float: left;margin-right: 0.25em;color: #696969;}#sk-container-id-1 label.sk-toggleable__label-arrow:hover:before {color: black;}#sk-container-id-1 div.sk-estimator:hover label.sk-toggleable__label-arrow:before {color: black;}#sk-container-id-1 div.sk-toggleable__content {max-height: 0;max-width: 0;overflow: hidden;text-align: left;background-color: #f0f8ff;}#sk-container-id-1 div.sk-toggleable__content pre {margin: 0.2em;color: black;border-radius: 0.25em;background-color: #f0f8ff;}#sk-container-id-1 input.sk-toggleable__control:checked~div.sk-toggleable__content {max-height: 200px;max-width: 100%;overflow: auto;}#sk-container-id-1 input.sk-toggleable__control:checked~label.sk-toggleable__label-arrow:before {content: \"▾\";}#sk-container-id-1 div.sk-estimator input.sk-toggleable__control:checked~label.sk-toggleable__label {background-color: #d4ebff;}#sk-container-id-1 div.sk-label input.sk-toggleable__control:checked~label.sk-toggleable__label {background-color: #d4ebff;}#sk-container-id-1 input.sk-hidden--visually {border: 0;clip: rect(1px 1px 1px 1px);clip: rect(1px, 1px, 1px, 1px);height: 1px;margin: -1px;overflow: hidden;padding: 0;position: absolute;width: 1px;}#sk-container-id-1 div.sk-estimator {font-family: monospace;background-color: #f0f8ff;border: 1px dotted black;border-radius: 0.25em;box-sizing: border-box;margin-bottom: 0.5em;}#sk-container-id-1 div.sk-estimator:hover {background-color: #d4ebff;}#sk-container-id-1 div.sk-parallel-item::after {content: \"\";width: 100%;border-bottom: 1px solid gray;flex-grow: 1;}#sk-container-id-1 div.sk-label:hover label.sk-toggleable__label {background-color: #d4ebff;}#sk-container-id-1 div.sk-serial::before {content: \"\";position: absolute;border-left: 1px solid gray;box-sizing: border-box;top: 0;bottom: 0;left: 50%;z-index: 0;}#sk-container-id-1 div.sk-serial {display: flex;flex-direction: column;align-items: center;background-color: white;padding-right: 0.2em;padding-left: 0.2em;position: relative;}#sk-container-id-1 div.sk-item {position: relative;z-index: 1;}#sk-container-id-1 div.sk-parallel {display: flex;align-items: stretch;justify-content: center;background-color: white;position: relative;}#sk-container-id-1 div.sk-item::before, #sk-container-id-1 div.sk-parallel-item::before {content: \"\";position: absolute;border-left: 1px solid gray;box-sizing: border-box;top: 0;bottom: 0;left: 50%;z-index: -1;}#sk-container-id-1 div.sk-parallel-item {display: flex;flex-direction: column;z-index: 1;position: relative;background-color: white;}#sk-container-id-1 div.sk-parallel-item:first-child::after {align-self: flex-end;width: 50%;}#sk-container-id-1 div.sk-parallel-item:last-child::after {align-self: flex-start;width: 50%;}#sk-container-id-1 div.sk-parallel-item:only-child::after {width: 0;}#sk-container-id-1 div.sk-dashed-wrapped {border: 1px dashed gray;margin: 0 0.4em 0.5em 0.4em;box-sizing: border-box;padding-bottom: 0.4em;background-color: white;}#sk-container-id-1 div.sk-label label {font-family: monospace;font-weight: bold;display: inline-block;line-height: 1.2em;}#sk-container-id-1 div.sk-label-container {text-align: center;}#sk-container-id-1 div.sk-container {/* jupyter's `normalize.less` sets `[hidden] { display: none; }` but bootstrap.min.css set `[hidden] { display: none !important; }` so we also need the `!important` here to be able to override the default hidden behavior on the sphinx rendered scikit-learn.org. See: https://github.com/scikit-learn/scikit-learn/issues/21755 */display: inline-block !important;position: relative;}#sk-container-id-1 div.sk-text-repr-fallback {display: none;}</style><div id=\"sk-container-id-1\" class=\"sk-top-container\"><div class=\"sk-text-repr-fallback\"><pre>Pipeline(steps=[(&#x27;tf-idf&#x27;, TfidfVectorizer()), (&#x27;clf&#x27;, MultinomialNB())])</pre><b>In a Jupyter environment, please rerun this cell to show the HTML representation or trust the notebook. <br />On GitHub, the HTML representation is unable to render, please try loading this page with nbviewer.org.</b></div><div class=\"sk-container\" hidden><div class=\"sk-item sk-dashed-wrapped\"><div class=\"sk-label-container\"><div class=\"sk-label sk-toggleable\"><input class=\"sk-toggleable__control sk-hidden--visually\" id=\"sk-estimator-id-1\" type=\"checkbox\" ><label for=\"sk-estimator-id-1\" class=\"sk-toggleable__label sk-toggleable__label-arrow\">Pipeline</label><div class=\"sk-toggleable__content\"><pre>Pipeline(steps=[(&#x27;tf-idf&#x27;, TfidfVectorizer()), (&#x27;clf&#x27;, MultinomialNB())])</pre></div></div></div><div class=\"sk-serial\"><div class=\"sk-item\"><div class=\"sk-estimator sk-toggleable\"><input class=\"sk-toggleable__control sk-hidden--visually\" id=\"sk-estimator-id-2\" type=\"checkbox\" ><label for=\"sk-estimator-id-2\" class=\"sk-toggleable__label sk-toggleable__label-arrow\">TfidfVectorizer</label><div class=\"sk-toggleable__content\"><pre>TfidfVectorizer()</pre></div></div></div><div class=\"sk-item\"><div class=\"sk-estimator sk-toggleable\"><input class=\"sk-toggleable__control sk-hidden--visually\" id=\"sk-estimator-id-3\" type=\"checkbox\" ><label for=\"sk-estimator-id-3\" class=\"sk-toggleable__label sk-toggleable__label-arrow\">MultinomialNB</label><div class=\"sk-toggleable__content\"><pre>MultinomialNB()</pre></div></div></div></div></div></div></div>"
            ]
          },
          "metadata": {},
          "execution_count": 18
        }
      ]
    },
    {
      "cell_type": "code",
      "source": [
        "model_0_preds = model_0.predict(val_sentences)\n",
        "model_0_preds"
      ],
      "metadata": {
        "colab": {
          "base_uri": "https://localhost:8080/"
        },
        "id": "zs8E0vQ4cZ4c",
        "outputId": "db6a3920-e3af-4e67-8905-9aae920b1ab1"
      },
      "execution_count": 19,
      "outputs": [
        {
          "output_type": "execute_result",
          "data": {
            "text/plain": [
              "array([0, 0, 2, ..., 0, 0, 0])"
            ]
          },
          "metadata": {},
          "execution_count": 19
        }
      ]
    },
    {
      "cell_type": "code",
      "source": [
        "calculate_result(y_true=val_labels_encoded,\n",
        "                 y_pred=model_0_preds)"
      ],
      "metadata": {
        "colab": {
          "base_uri": "https://localhost:8080/"
        },
        "id": "y8dbMx2ucdYZ",
        "outputId": "09f36b8c-1b2e-48ee-da4d-49fce2773d0a"
      },
      "execution_count": 20,
      "outputs": [
        {
          "output_type": "execute_result",
          "data": {
            "text/plain": [
              "{'accuracy': 0.8698673404927353,\n",
              " 'precision': 0.8791305379670522,\n",
              " 'recall': 0.8698673404927353,\n",
              " 'f1-score': 0.8515601420208461}"
            ]
          },
          "metadata": {},
          "execution_count": 20
        }
      ]
    },
    {
      "cell_type": "markdown",
      "source": [
        "# Sử dụng BERT"
      ],
      "metadata": {
        "id": "dk80oDU_EPeu"
      }
    },
    {
      "cell_type": "code",
      "source": [
        "AUTOTUNE = tf.data.AUTOTUNE\n",
        "\n",
        "train_ds = tf.data.Dataset.from_tensor_slices((train_sentences, train_labels_one_hot)).batch(32).prefetch(AUTOTUNE)\n",
        "val_ds = tf.data.Dataset.from_tensor_slices((val_sentences, val_labels_one_hot)).batch(32).prefetch(AUTOTUNE)"
      ],
      "metadata": {
        "id": "Eg2dsMH49two"
      },
      "execution_count": 21,
      "outputs": []
    },
    {
      "cell_type": "code",
      "source": [
        "for text_batch, label_batch in train_ds.take(1):\n",
        "  for i in range(3):\n",
        "    print(f'Sentences: {text_batch[i]}')\n",
        "    label = label_batch.numpy()[i]\n",
        "    print(f'Label : {label}')"
      ],
      "metadata": {
        "colab": {
          "base_uri": "https://localhost:8080/"
        },
        "id": "fyLIlvlW-UG-",
        "outputId": "f58487cd-3cb4-46dd-ab4d-2bbc6c3c854f"
      },
      "execution_count": 22,
      "outputs": [
        {
          "output_type": "stream",
          "name": "stdout",
          "text": [
            "Sentences: b'slide gi\\xc3\\xa1o_tr\\xc3\\xacnh \\xc4\\x91\\xe1\\xba\\xa7y_\\xc4\\x91\\xe1\\xbb\\xa7'\n",
            "Label : [0. 0. 1.]\n",
            "Sentences: b'nhi\\xe1\\xbb\\x87t_t\\xc3\\xacnh gi\\xe1\\xba\\xa3ng_d\\xe1\\xba\\xa1y g\\xe1\\xba\\xa7n_g\\xc5\\xa9i v\\xe1\\xbb\\x9bi sinh_vi\\xc3\\xaan'\n",
            "Label : [0. 0. 1.]\n",
            "Sentences: b'\\xc4\\x91i h\\xe1\\xbb\\x8dc \\xc4\\x91\\xe1\\xba\\xa7y_\\xc4\\x91\\xe1\\xbb\\xa7 full \\xc4\\x91i\\xe1\\xbb\\x83m chuy\\xc3\\xaan_c\\xe1\\xba\\xa7n'\n",
            "Label : [1. 0. 0.]\n"
          ]
        }
      ]
    },
    {
      "cell_type": "code",
      "source": [
        "tfhub_handle_preprocess = \"https://tfhub.dev/jeongukjae/distilbert_multi_cased_preprocess/2\"\n",
        "tfhub_handle_encoder = \"https://tfhub.dev/jeongukjae/distilbert_multi_cased_L-6_H-768_A-12/1\""
      ],
      "metadata": {
        "id": "jiHpMBvxEYai"
      },
      "execution_count": 23,
      "outputs": []
    },
    {
      "cell_type": "code",
      "source": [
        "def build_classifier_model():\n",
        "  text_input=tf.keras.layers.Input(shape=(), dtype=tf.string, name='text')\n",
        "  preprocessing_layer = hub.KerasLayer(tfhub_handle_preprocess, name='preprocessing')\n",
        "  encoder_inputs = preprocessing_layer(text_input)\n",
        "  encoder = hub.KerasLayer(tfhub_handle_encoder, trainable=True, name='BERT_encoder')\n",
        "  outputs = encoder(encoder_inputs)\n",
        "  net = outputs['pooled_output']\n",
        "  net = tf.keras.layers.Dropout(0.2)(net)\n",
        "  net = tf.keras.layers.Dense(64, activation='relu')(net)\n",
        "  net = tf.keras.layers.Dense(num_classes, activation='softmax', name='classifier')(net)\n",
        "  return tf.keras.Model(text_input, net)"
      ],
      "metadata": {
        "id": "qhjo4wpFE9s9"
      },
      "execution_count": 24,
      "outputs": []
    },
    {
      "cell_type": "code",
      "source": [
        "classifier_model = build_classifier_model()"
      ],
      "metadata": {
        "id": "GRRzbuwdFVW1"
      },
      "execution_count": 33,
      "outputs": []
    },
    {
      "cell_type": "code",
      "source": [
        "tf.keras.utils.plot_model(classifier_model)"
      ],
      "metadata": {
        "colab": {
          "base_uri": "https://localhost:8080/",
          "height": 564
        },
        "id": "3Oyl3bIRFbid",
        "outputId": "02a1d7cf-80e8-4e50-be27-e37b9a2db3c5"
      },
      "execution_count": 34,
      "outputs": [
        {
          "output_type": "execute_result",
          "data": {
            "image/png": "[encoded data removed]",
            "text/plain": [
              "<IPython.core.display.Image object>"
            ]
          },
          "metadata": {},
          "execution_count": 34
        }
      ]
    },
    {
      "cell_type": "code",
      "source": [
        "class myCallback(tf.keras.callbacks.Callback):\n",
        "  def on_epoch_stop(self, epoch, logs={}):\n",
        "    if logs.get('accuracy') > 0.95:\n",
        "      print(\"\\nReached 95% accuracy so cancelling training!\")\n",
        "      self.model.stop_training = True\n",
        "on_epoch_stop = myCallback()\n",
        "\n",
        "# Dừng train khi val_loss không cải thiện sau 3 epochs\n",
        "early_stopping = tf.keras.callbacks.EarlyStopping(monitor='val_loss',\n",
        "                                                  patience=3)\n",
        "checkpoint_path = 'checkpoint/cp.ckpt'\n",
        "checkpoint_callback = tf.keras.callbacks.ModelCheckpoint(checkpoint_path,\n",
        "                                                         monitor='val_accuracy',\n",
        "                                                         save_weights_only=True,\n",
        "                                                         save_best_only=True)\n",
        "callbacks = [on_epoch_stop, early_stopping, checkpoint_callback]"
      ],
      "metadata": {
        "id": "-gH7Dn27TetU"
      },
      "execution_count": 35,
      "outputs": []
    },
    {
      "cell_type": "code",
      "source": [
        "loss = tf.keras.losses.CategoricalCrossentropy()\n",
        "metrics = tf.metrics.CategoricalAccuracy()\n",
        "\n",
        "epochs = 10\n",
        "steps_per_epoch = tf.data.experimental.cardinality(train_ds).numpy()\n",
        "num_train_steps = steps_per_epoch * epochs\n",
        "num_warmup_steps = int(0.1*num_train_steps)\n",
        "\n",
        "init_lr = 3e-5\n",
        "optimizer = optimization.create_optimizer(init_lr=init_lr,\n",
        "                                          num_train_steps=num_train_steps,\n",
        "                                          num_warmup_steps=num_warmup_steps,\n",
        "                                          optimizer_type='adamw')\n",
        "classifier_model.compile(optimizer=optimizer,\n",
        "                         loss=loss,\n",
        "                         metrics=metrics)"
      ],
      "metadata": {
        "id": "3dKvirCiFy1f"
      },
      "execution_count": 36,
      "outputs": []
    },
    {
      "cell_type": "code",
      "source": [
        "history = classifier_model.fit(x=train_ds,\n",
        "                               validation_data=val_ds,\n",
        "                               epochs=epochs,\n",
        "                               callbacks=callbacks)"
      ],
      "metadata": {
        "colab": {
          "base_uri": "https://localhost:8080/"
        },
        "id": "sUoB6t0MF2dv",
        "outputId": "c7434689-ec2d-463d-9417-62e010da1299"
      },
      "execution_count": 37,
      "outputs": [
        {
          "output_type": "stream",
          "name": "stdout",
          "text": [
            "Epoch 1/10\n",
            "456/456 [==============================] - 264s 560ms/step - loss: 0.4958 - categorical_accuracy: 0.7987 - val_loss: 0.2929 - val_categorical_accuracy: 0.8996\n",
            "Epoch 2/10\n",
            "456/456 [==============================] - 255s 559ms/step - loss: 0.2636 - categorical_accuracy: 0.9113 - val_loss: 0.2344 - val_categorical_accuracy: 0.9305\n",
            "Epoch 3/10\n",
            "456/456 [==============================] - 253s 554ms/step - loss: 0.1994 - categorical_accuracy: 0.9365 - val_loss: 0.2447 - val_categorical_accuracy: 0.9362\n",
            "Epoch 4/10\n",
            "456/456 [==============================] - 253s 555ms/step - loss: 0.1572 - categorical_accuracy: 0.9515 - val_loss: 0.2690 - val_categorical_accuracy: 0.9267\n",
            "Epoch 5/10\n",
            "456/456 [==============================] - 255s 558ms/step - loss: 0.1229 - categorical_accuracy: 0.9629 - val_loss: 0.3071 - val_categorical_accuracy: 0.9311\n"
          ]
        }
      ]
    },
    {
      "cell_type": "code",
      "source": [
        "history_dict = history.history\n",
        "print(history_dict.keys())\n",
        "\n",
        "acc = history_dict['categorical_accuracy']\n",
        "val_acc = history_dict['val_categorical_accuracy']\n",
        "loss = history_dict['loss']\n",
        "val_loss = history_dict['val_loss']\n",
        "\n",
        "epochs = range(1, len(acc) + 1)\n",
        "fig = plt.figure(figsize=(10, 6))\n",
        "fig.tight_layout()\n",
        "\n",
        "plt.subplot(2, 1, 1)\n",
        "# r is for \"solid red line\"\n",
        "plt.plot(epochs, loss, 'r', label='Training loss')\n",
        "# b is for \"solid blue line\"\n",
        "plt.plot(epochs, val_loss, 'b', label='Validation loss')\n",
        "plt.title('Training and validation loss')\n",
        "# plt.xlabel('Epochs')\n",
        "plt.ylabel('Loss')\n",
        "plt.legend()\n",
        "\n",
        "plt.subplot(2, 1, 2)\n",
        "plt.plot(epochs, acc, 'r', label='Training acc')\n",
        "plt.plot(epochs, val_acc, 'b', label='Validation acc')\n",
        "plt.title('Training and validation accuracy')\n",
        "plt.xlabel('Epochs')\n",
        "plt.ylabel('Accuracy')\n",
        "plt.legend(loc='lower right')"
      ],
      "metadata": {
        "colab": {
          "base_uri": "https://localhost:8080/",
          "height": 439
        },
        "id": "CCFpXptAGmLA",
        "outputId": "83c0df62-6898-4eaa-b1f2-81345eb1ef2e"
      },
      "execution_count": 38,
      "outputs": [
        {
          "output_type": "stream",
          "name": "stdout",
          "text": [
            "dict_keys(['loss', 'categorical_accuracy', 'val_loss', 'val_categorical_accuracy'])\n"
          ]
        },
        {
          "output_type": "execute_result",
          "data": {
            "text/plain": [
              "<matplotlib.legend.Legend at 0x7fe4976c24f0>"
            ]
          },
          "metadata": {},
          "execution_count": 38
        },
        {
          "output_type": "display_data",
          "data": {
            "text/plain": [
              "<Figure size 720x432 with 2 Axes>"
            ],
            "image/png": "[encoded data removed]"
          },
          "metadata": {
            "needs_background": "light"
          }
        }
      ]
    },
    {
      "cell_type": "code",
      "source": [
        "saved_model_path = 'saved_model'\n",
        "\n",
        "classifier_model.save(saved_model_path, include_optimizer=False)"
      ],
      "metadata": {
        "colab": {
          "base_uri": "https://localhost:8080/"
        },
        "id": "cPz3txm8Nx2M",
        "outputId": "75127cf6-75d0-407c-fe41-5225ca14b441"
      },
      "execution_count": 31,
      "outputs": [
        {
          "output_type": "stream",
          "name": "stderr",
          "text": [
            "WARNING:absl:Found untraced functions such as restored_function_body, restored_function_body, restored_function_body, restored_function_body, restored_function_body while saving (showing 5 of 180). These functions will not be directly callable after loading.\n"
          ]
        }
      ]
    },
    {
      "cell_type": "code",
      "source": [
        "saved_model_path = 'saved_model'\n",
        "reloaded_model = tf.saved_model.load(saved_model_path)"
      ],
      "metadata": {
        "id": "2lq8-wAcOM-B"
      },
      "execution_count": 39,
      "outputs": []
    },
    {
      "cell_type": "code",
      "source": [
        "preds = tf.math.argmax(reloaded_model(tf.constant(val_sentences)), axis=1)\n",
        "calculate_result(val_labels_encoded, preds)"
      ],
      "metadata": {
        "colab": {
          "base_uri": "https://localhost:8080/"
        },
        "id": "Gu5EmdPEQfv8",
        "outputId": "af4d0de6-fcbf-4661-da28-9245ee6df2c6"
      },
      "execution_count": 40,
      "outputs": [
        {
          "output_type": "execute_result",
          "data": {
            "text/plain": [
              "{'accuracy': 0.934301958307012,\n",
              " 'precision': 0.9318176859977401,\n",
              " 'recall': 0.934301958307012,\n",
              " 'f1-score': 0.9327259554542228}"
            ]
          },
          "metadata": {},
          "execution_count": 40
        }
      ]
    },
    {
      "cell_type": "code",
      "source": [
        "def plot_cm(cm):\n",
        "  plt.figure(figsize=(9,6))\n",
        "  df_cm = pd.DataFrame(cm, index=class_names, columns=class_names)\n",
        "  ax = sns.heatmap(df_cm, annot=True, fmt='g')\n",
        "  ax.set_xlabel(\"Predicted\")\n",
        "  ax.set_ylabel(\"Target\")"
      ],
      "metadata": {
        "id": "BTczHbIiRZQy"
      },
      "execution_count": 41,
      "outputs": []
    },
    {
      "cell_type": "code",
      "source": [
        "from sklearn.metrics import confusion_matrix\n",
        "cm = confusion_matrix(val_labels_encoded, preds, normalize='true')\n",
        "plot_cm(cm)"
      ],
      "metadata": {
        "colab": {
          "base_uri": "https://localhost:8080/",
          "height": 388
        },
        "id": "Smj1hXFbRbSy",
        "outputId": "073ee7da-ba2c-4b7e-945f-02255b6e1870"
      },
      "execution_count": 42,
      "outputs": [
        {
          "output_type": "display_data",
          "data": {
            "text/plain": [
              "<Figure size 648x432 with 2 Axes>"
            ],
            "image/png": "[encoded data removed]"
          },
          "metadata": {
            "needs_background": "light"
          }
        }
      ]
    },
    {
      "cell_type": "code",
      "source": [
        "def print_my_examples(inputs, results):\n",
        "  result_for_printing = \\\n",
        "    [f'input: {inputs[i]:<30}\\nscore: {class_names[results[i]]}\\n'\n",
        "                         for i in range(len(inputs))]\n",
        "  print(*result_for_printing, sep='\\n')\n",
        "  print()\n",
        "\n",
        "reloaded_results = tf.math.argmax(reloaded_model(tf.constant(val_sentences[:30])), axis=1)\n",
        "\n",
        "print('Results from the saved model:')\n",
        "print_my_examples(val_sentences[:30], reloaded_results)"
      ],
      "metadata": {
        "colab": {
          "base_uri": "https://localhost:8080/"
        },
        "id": "WE7RicnyOS9O",
        "outputId": "2b54d32e-ea98-41e3-a245-a8b5195b4eee"
      },
      "execution_count": 44,
      "outputs": [
        {
          "output_type": "stream",
          "name": "stdout",
          "text": [
            "Results from the saved model:\n",
            "input: giáo_trình chưa cụ_thể        \n",
            "score: negative\n",
            "\n",
            "input: giảng buồn_ngủ                \n",
            "score: negative\n",
            "\n",
            "input: giáo_viên vui_tính tận_tâm    \n",
            "score: positive\n",
            "\n",
            "input: giảng_viên nên giao bài_tập nhiều hơn chia nhóm để làm bài_tập giảng kỹ những vấn_đề trọng_tâm của môn_học đưa ra phương_pháp để học_hiệu quả hơn\n",
            "score: negative\n",
            "\n",
            "input: giảng_viên cần giảng bài chi_tiết hơn đi_sâu hơn code và chạy thử chương_trình có trong bài giảng nếu được\n",
            "score: negative\n",
            "\n",
            "input: nên có giảng_viên nước_ngoài dạy để sinh_viên có cơ_hội thực_hành giao_tiếp\n",
            "score: negative\n",
            "\n",
            "input: nên có bài_tập lớn đồ_án môn_học\n",
            "score: negative\n",
            "\n",
            "input: giảng_viên đảm_bảo nội_dung học phân_tích giải nhiều bài_tập\n",
            "score: positive\n",
            "\n",
            "input: nêu rõ mục_tiêu mục_đích môn_học để sinh_viên tiếp_thu dễ_dàng\n",
            "score: negative\n",
            "\n",
            "input: có một_số vấn_đề nói chưa rõ  \n",
            "score: negative\n",
            "\n",
            "input: giáo_viên tận_tình chuẩn_bị bài_học chu_đáo\n",
            "score: positive\n",
            "\n",
            "input: giảng_viên dạy hay và tâm_huyết\n",
            "score: positive\n",
            "\n",
            "input: cách tính học_phí đối_với môn thực_hành không được rõ_ràng và minh_bạch trong khi học thực_hành sinh_viên hầu_như không sử_dụng máy_tính của trường và kiến_thức học được từ giảng_viên là rất ít so với học lý_thuyết\n",
            "score: negative\n",
            "\n",
            "input: nói_chuyện dễ nghe            \n",
            "score: positive\n",
            "\n",
            "input: hiểu được mục_tiêu của môn_học thầy nhiệt_tình giúp_đỡ sinh_viên\n",
            "score: positive\n",
            "\n",
            "input: cô dạy khó hiểu phải về nhà học thêm nhiều mới hiểu những gì cần_thiết cho môn_học\n",
            "score: negative\n",
            "\n",
            "input: truyền_đạt tốt bám sát đề thi bài giảng cung_cấp đầy_đủ\n",
            "score: positive\n",
            "\n",
            "input: thầy_cô dạy rất nhiệt_tình    \n",
            "score: positive\n",
            "\n",
            "input: em không có bất_cứ một lời phê_bình nào\n",
            "score: neutral\n",
            "\n",
            "input: nội_dung học quá trừu_tượng thực_hành chưa thực_sự mang lại hiệu_quả đa_phần sinh_viên thực_hành theo bài_tập được giao thực_hành xong không biết mình đang làm_gì không thấy được ý_nghĩa thực_tiễn của môn_học\n",
            "score: negative\n",
            "\n",
            "input: cô nên thêm phần điểm đi học thực_hành\n",
            "score: negative\n",
            "\n",
            "input: cách nói_chuyện với sinh_viên gây mất cảm_tình của sinh_viên đối_với giảng_viên\n",
            "score: negative\n",
            "\n",
            "input: đồng_thời bài giảng theo em nhìn_nhận thực_sự rất chi_tiết\n",
            "score: positive\n",
            "\n",
            "input: truyền_đạt kiến_thức          \n",
            "score: neutral\n",
            "\n",
            "input: rất ấn_tượng với những bài_tập thở giúp cho não bộ được nghĩ ngơi của cô\n",
            "score: positive\n",
            "\n",
            "input: thầy rất nhiệt_tình giảng bài rất hay và dễ hiểu\n",
            "score: positive\n",
            "\n",
            "input: nhưng em không mấy hài_lòng về cách giải_quyết vấn_đề của giảng_viên khi giảng_viên đã đi trễ như_vậy thầy trực phòng thực_hành lên_tiếng bảo em và một_số bạn khác ra về\n",
            "score: negative\n",
            "\n",
            "input: đôi_khi giảng_dạy quá nhiệt_tình mà quên mất cả thời_gian hết giờ học giảng_viên vẫn dạy thêm 10 15 phút\n",
            "score: negative\n",
            "\n",
            "input: ôn_tập kỹ trước khi thi hoặc trong lúc giảng_dạy cập_nhật đến những vấn_đề có_thể cho ra trong bài thi\n",
            "score: positive\n",
            "\n",
            "input: sự nhiệt_tình vui_tính của giảng_viên\n",
            "score: positive\n",
            "\n",
            "\n"
          ]
        }
      ]
    },
    {
      "cell_type": "code",
      "source": [],
      "metadata": {
        "id": "Ah-dmtm4Ofwe"
      },
      "execution_count": null,
      "outputs": []
    }
  ]
}